{
 "cells": [
  {
   "cell_type": "markdown",
   "metadata": {},
   "source": [
    "# SOCCER WIN OR LOSS CLASSIFICATION ⚽ "
   ]
  },
  {
   "cell_type": "markdown",
   "metadata": {},
   "source": [
    "### 1.Problem Statement\n",
    "Soccer aka Football is the most popular game in the world. It’s a religion of its own. If groups of 10 people can stop time and make people watch them in awe and reverence, it’s this beautiful game. Also, anybody can play soccer- all it needs is 4 poles, a ground and a ball. You can just get started with the play.\n",
    "\n",
    "We live in ambiguity and always need some information to just make a decision. Decisions are made based on possible outcomes. Win/ Loss/ Pass / Fail etc.\n",
    "\n",
    "The problem statement is a classic study for decision-making and understanding the odds stacked against a particular situation."
   ]
  },
  {
   "cell_type": "markdown",
   "metadata": {},
   "source": [
    "### 2. Dataset\n",
    "Dataset taken from MachineHack competition - https://machinehack.com/hackathons/soccer_fever_weekend_hackathon_edition_2_the_last_hacker_standing/overview\n",
    "\n",
    "Train\n",
    "Dataset: 7443*21\n",
    "Columns: 21\n",
    "Target Column: Outcome\n",
    "\n",
    "\n",
    "Test\n",
    "Dataset: 4008*20\n",
    "Columns: 20"
   ]
  },
  {
   "cell_type": "markdown",
   "metadata": {},
   "source": [
    "### 3. Evaluation\n",
    "The submission will be evaluated using the Log Loss metric. One can use sklearn.metric.log_loss to calculate the same."
   ]
  },
  {
   "cell_type": "markdown",
   "metadata": {},
   "source": [
    "### Getting Started"
   ]
  },
  {
   "cell_type": "code",
   "execution_count": 1,
   "metadata": {},
   "outputs": [],
   "source": [
    "import numpy as np\n",
    "import pandas as pd\n",
    "import matplotlib.pyplot as plt\n",
    "import seaborn as sns\n",
    "%matplotlib inline"
   ]
  },
  {
   "cell_type": "code",
   "execution_count": 2,
   "metadata": {},
   "outputs": [
    {
     "data": {
      "text/html": [
       "<div>\n",
       "<style scoped>\n",
       "    .dataframe tbody tr th:only-of-type {\n",
       "        vertical-align: middle;\n",
       "    }\n",
       "\n",
       "    .dataframe tbody tr th {\n",
       "        vertical-align: top;\n",
       "    }\n",
       "\n",
       "    .dataframe thead th {\n",
       "        text-align: right;\n",
       "    }\n",
       "</style>\n",
       "<table border=\"1\" class=\"dataframe\">\n",
       "  <thead>\n",
       "    <tr style=\"text-align: right;\">\n",
       "      <th></th>\n",
       "      <th>season</th>\n",
       "      <th>date</th>\n",
       "      <th>league_id</th>\n",
       "      <th>league</th>\n",
       "      <th>Team 1</th>\n",
       "      <th>Team2</th>\n",
       "      <th>SPI1</th>\n",
       "      <th>SPI2</th>\n",
       "      <th>proj_score1</th>\n",
       "      <th>proj_score2</th>\n",
       "      <th>...</th>\n",
       "      <th>importance2</th>\n",
       "      <th>score1</th>\n",
       "      <th>score2</th>\n",
       "      <th>xg1</th>\n",
       "      <th>xg2</th>\n",
       "      <th>nsxg1</th>\n",
       "      <th>nsxg2</th>\n",
       "      <th>adj_score1</th>\n",
       "      <th>adj_score2</th>\n",
       "      <th>Outcome</th>\n",
       "    </tr>\n",
       "  </thead>\n",
       "  <tbody>\n",
       "    <tr>\n",
       "      <th>0</th>\n",
       "      <td>2019</td>\n",
       "      <td>2019-01-03</td>\n",
       "      <td>1979</td>\n",
       "      <td>Chinese Super League</td>\n",
       "      <td>Shandong Luneng</td>\n",
       "      <td>Guizhou Renhe</td>\n",
       "      <td>48.22</td>\n",
       "      <td>37.83</td>\n",
       "      <td>1.75</td>\n",
       "      <td>0.84</td>\n",
       "      <td>...</td>\n",
       "      <td>22.1</td>\n",
       "      <td>1.0</td>\n",
       "      <td>0.0</td>\n",
       "      <td>1.39</td>\n",
       "      <td>0.26</td>\n",
       "      <td>2.05</td>\n",
       "      <td>0.54</td>\n",
       "      <td>1.05</td>\n",
       "      <td>0.00</td>\n",
       "      <td>1</td>\n",
       "    </tr>\n",
       "    <tr>\n",
       "      <th>1</th>\n",
       "      <td>2019</td>\n",
       "      <td>2019-01-03</td>\n",
       "      <td>1979</td>\n",
       "      <td>Chinese Super League</td>\n",
       "      <td>Shanghai Greenland</td>\n",
       "      <td>Shanghai SIPG</td>\n",
       "      <td>39.81</td>\n",
       "      <td>60.08</td>\n",
       "      <td>1.22</td>\n",
       "      <td>1.89</td>\n",
       "      <td>...</td>\n",
       "      <td>63.4</td>\n",
       "      <td>0.0</td>\n",
       "      <td>4.0</td>\n",
       "      <td>0.57</td>\n",
       "      <td>2.76</td>\n",
       "      <td>0.80</td>\n",
       "      <td>1.50</td>\n",
       "      <td>0.00</td>\n",
       "      <td>3.26</td>\n",
       "      <td>0</td>\n",
       "    </tr>\n",
       "    <tr>\n",
       "      <th>2</th>\n",
       "      <td>2019</td>\n",
       "      <td>2019-01-03</td>\n",
       "      <td>1979</td>\n",
       "      <td>Chinese Super League</td>\n",
       "      <td>Guangzhou Evergrande</td>\n",
       "      <td>Tianjin Quanujian</td>\n",
       "      <td>65.59</td>\n",
       "      <td>39.99</td>\n",
       "      <td>2.58</td>\n",
       "      <td>0.62</td>\n",
       "      <td>...</td>\n",
       "      <td>28.8</td>\n",
       "      <td>3.0</td>\n",
       "      <td>0.0</td>\n",
       "      <td>0.49</td>\n",
       "      <td>0.45</td>\n",
       "      <td>1.05</td>\n",
       "      <td>0.75</td>\n",
       "      <td>3.15</td>\n",
       "      <td>0.00</td>\n",
       "      <td>1</td>\n",
       "    </tr>\n",
       "    <tr>\n",
       "      <th>3</th>\n",
       "      <td>2019</td>\n",
       "      <td>2019-01-03</td>\n",
       "      <td>1979</td>\n",
       "      <td>Chinese Super League</td>\n",
       "      <td>Wuhan Zall</td>\n",
       "      <td>Beijing Guoan</td>\n",
       "      <td>32.25</td>\n",
       "      <td>54.82</td>\n",
       "      <td>1.10</td>\n",
       "      <td>1.79</td>\n",
       "      <td>...</td>\n",
       "      <td>58.9</td>\n",
       "      <td>0.0</td>\n",
       "      <td>1.0</td>\n",
       "      <td>1.12</td>\n",
       "      <td>0.97</td>\n",
       "      <td>1.51</td>\n",
       "      <td>0.94</td>\n",
       "      <td>0.00</td>\n",
       "      <td>1.05</td>\n",
       "      <td>0</td>\n",
       "    </tr>\n",
       "    <tr>\n",
       "      <th>4</th>\n",
       "      <td>2019</td>\n",
       "      <td>2019-01-03</td>\n",
       "      <td>1979</td>\n",
       "      <td>Chinese Super League</td>\n",
       "      <td>Chongqing Lifan</td>\n",
       "      <td>Guangzhou RF</td>\n",
       "      <td>38.24</td>\n",
       "      <td>40.45</td>\n",
       "      <td>1.57</td>\n",
       "      <td>1.24</td>\n",
       "      <td>...</td>\n",
       "      <td>21.3</td>\n",
       "      <td>2.0</td>\n",
       "      <td>2.0</td>\n",
       "      <td>2.77</td>\n",
       "      <td>3.17</td>\n",
       "      <td>1.05</td>\n",
       "      <td>2.08</td>\n",
       "      <td>2.10</td>\n",
       "      <td>2.10</td>\n",
       "      <td>1</td>\n",
       "    </tr>\n",
       "  </tbody>\n",
       "</table>\n",
       "<p>5 rows × 21 columns</p>\n",
       "</div>"
      ],
      "text/plain": [
       "   season       date  league_id                league                Team 1  \\\n",
       "0    2019 2019-01-03       1979  Chinese Super League       Shandong Luneng   \n",
       "1    2019 2019-01-03       1979  Chinese Super League    Shanghai Greenland   \n",
       "2    2019 2019-01-03       1979  Chinese Super League  Guangzhou Evergrande   \n",
       "3    2019 2019-01-03       1979  Chinese Super League            Wuhan Zall   \n",
       "4    2019 2019-01-03       1979  Chinese Super League       Chongqing Lifan   \n",
       "\n",
       "               Team2   SPI1   SPI2  proj_score1  proj_score2  ...  \\\n",
       "0      Guizhou Renhe  48.22  37.83         1.75         0.84  ...   \n",
       "1      Shanghai SIPG  39.81  60.08         1.22         1.89  ...   \n",
       "2  Tianjin Quanujian  65.59  39.99         2.58         0.62  ...   \n",
       "3      Beijing Guoan  32.25  54.82         1.10         1.79  ...   \n",
       "4       Guangzhou RF  38.24  40.45         1.57         1.24  ...   \n",
       "\n",
       "   importance2  score1  score2   xg1   xg2  nsxg1  nsxg2  adj_score1  \\\n",
       "0         22.1     1.0     0.0  1.39  0.26   2.05   0.54        1.05   \n",
       "1         63.4     0.0     4.0  0.57  2.76   0.80   1.50        0.00   \n",
       "2         28.8     3.0     0.0  0.49  0.45   1.05   0.75        3.15   \n",
       "3         58.9     0.0     1.0  1.12  0.97   1.51   0.94        0.00   \n",
       "4         21.3     2.0     2.0  2.77  3.17   1.05   2.08        2.10   \n",
       "\n",
       "   adj_score2  Outcome  \n",
       "0        0.00        1  \n",
       "1        3.26        0  \n",
       "2        0.00        1  \n",
       "3        1.05        0  \n",
       "4        2.10        1  \n",
       "\n",
       "[5 rows x 21 columns]"
      ]
     },
     "execution_count": 2,
     "metadata": {},
     "output_type": "execute_result"
    }
   ],
   "source": [
    "data = pd.read_csv('train.csv',parse_dates=['date'])\n",
    "data.head()"
   ]
  },
  {
   "cell_type": "markdown",
   "metadata": {},
   "source": [
    "### Exploratory Data Analysis"
   ]
  },
  {
   "cell_type": "code",
   "execution_count": 3,
   "metadata": {},
   "outputs": [
    {
     "name": "stdout",
     "output_type": "stream",
     "text": [
      "<class 'pandas.core.frame.DataFrame'>\n",
      "RangeIndex: 7443 entries, 0 to 7442\n",
      "Data columns (total 21 columns):\n",
      " #   Column       Non-Null Count  Dtype         \n",
      "---  ------       --------------  -----         \n",
      " 0   season       7443 non-null   int64         \n",
      " 1   date         7443 non-null   datetime64[ns]\n",
      " 2   league_id    7443 non-null   int64         \n",
      " 3   league       7443 non-null   object        \n",
      " 4   Team 1       7443 non-null   object        \n",
      " 5   Team2        7443 non-null   object        \n",
      " 6   SPI1         7443 non-null   float64       \n",
      " 7   SPI2         7443 non-null   float64       \n",
      " 8   proj_score1  7443 non-null   float64       \n",
      " 9   proj_score2  7443 non-null   float64       \n",
      " 10  importance1  2527 non-null   float64       \n",
      " 11  importance2  2527 non-null   float64       \n",
      " 12  score1       2643 non-null   float64       \n",
      " 13  score2       2643 non-null   float64       \n",
      " 14  xg1          1715 non-null   float64       \n",
      " 15  xg2          1715 non-null   float64       \n",
      " 16  nsxg1        1715 non-null   float64       \n",
      " 17  nsxg2        1715 non-null   float64       \n",
      " 18  adj_score1   1715 non-null   float64       \n",
      " 19  adj_score2   1715 non-null   float64       \n",
      " 20  Outcome      7443 non-null   int64         \n",
      "dtypes: datetime64[ns](1), float64(14), int64(3), object(3)\n",
      "memory usage: 1.2+ MB\n"
     ]
    }
   ],
   "source": [
    "data.info()"
   ]
  },
  {
   "cell_type": "code",
   "execution_count": 4,
   "metadata": {},
   "outputs": [
    {
     "data": {
      "text/html": [
       "<div>\n",
       "<style scoped>\n",
       "    .dataframe tbody tr th:only-of-type {\n",
       "        vertical-align: middle;\n",
       "    }\n",
       "\n",
       "    .dataframe tbody tr th {\n",
       "        vertical-align: top;\n",
       "    }\n",
       "\n",
       "    .dataframe thead th {\n",
       "        text-align: right;\n",
       "    }\n",
       "</style>\n",
       "<table border=\"1\" class=\"dataframe\">\n",
       "  <thead>\n",
       "    <tr style=\"text-align: right;\">\n",
       "      <th></th>\n",
       "      <th>0</th>\n",
       "      <th>1</th>\n",
       "      <th>2</th>\n",
       "      <th>3</th>\n",
       "      <th>4</th>\n",
       "    </tr>\n",
       "  </thead>\n",
       "  <tbody>\n",
       "    <tr>\n",
       "      <th>season</th>\n",
       "      <td>2019</td>\n",
       "      <td>2019</td>\n",
       "      <td>2019</td>\n",
       "      <td>2019</td>\n",
       "      <td>2019</td>\n",
       "    </tr>\n",
       "    <tr>\n",
       "      <th>date</th>\n",
       "      <td>2019-01-03 00:00:00</td>\n",
       "      <td>2019-01-03 00:00:00</td>\n",
       "      <td>2019-01-03 00:00:00</td>\n",
       "      <td>2019-01-03 00:00:00</td>\n",
       "      <td>2019-01-03 00:00:00</td>\n",
       "    </tr>\n",
       "    <tr>\n",
       "      <th>league_id</th>\n",
       "      <td>1979</td>\n",
       "      <td>1979</td>\n",
       "      <td>1979</td>\n",
       "      <td>1979</td>\n",
       "      <td>1979</td>\n",
       "    </tr>\n",
       "    <tr>\n",
       "      <th>league</th>\n",
       "      <td>Chinese Super League</td>\n",
       "      <td>Chinese Super League</td>\n",
       "      <td>Chinese Super League</td>\n",
       "      <td>Chinese Super League</td>\n",
       "      <td>Chinese Super League</td>\n",
       "    </tr>\n",
       "    <tr>\n",
       "      <th>Team 1</th>\n",
       "      <td>Shandong Luneng</td>\n",
       "      <td>Shanghai Greenland</td>\n",
       "      <td>Guangzhou Evergrande</td>\n",
       "      <td>Wuhan Zall</td>\n",
       "      <td>Chongqing Lifan</td>\n",
       "    </tr>\n",
       "    <tr>\n",
       "      <th>Team2</th>\n",
       "      <td>Guizhou Renhe</td>\n",
       "      <td>Shanghai SIPG</td>\n",
       "      <td>Tianjin Quanujian</td>\n",
       "      <td>Beijing Guoan</td>\n",
       "      <td>Guangzhou RF</td>\n",
       "    </tr>\n",
       "    <tr>\n",
       "      <th>SPI1</th>\n",
       "      <td>48.22</td>\n",
       "      <td>39.81</td>\n",
       "      <td>65.59</td>\n",
       "      <td>32.25</td>\n",
       "      <td>38.24</td>\n",
       "    </tr>\n",
       "    <tr>\n",
       "      <th>SPI2</th>\n",
       "      <td>37.83</td>\n",
       "      <td>60.08</td>\n",
       "      <td>39.99</td>\n",
       "      <td>54.82</td>\n",
       "      <td>40.45</td>\n",
       "    </tr>\n",
       "    <tr>\n",
       "      <th>proj_score1</th>\n",
       "      <td>1.75</td>\n",
       "      <td>1.22</td>\n",
       "      <td>2.58</td>\n",
       "      <td>1.1</td>\n",
       "      <td>1.57</td>\n",
       "    </tr>\n",
       "    <tr>\n",
       "      <th>proj_score2</th>\n",
       "      <td>0.84</td>\n",
       "      <td>1.89</td>\n",
       "      <td>0.62</td>\n",
       "      <td>1.79</td>\n",
       "      <td>1.24</td>\n",
       "    </tr>\n",
       "    <tr>\n",
       "      <th>importance1</th>\n",
       "      <td>45.9</td>\n",
       "      <td>25.6</td>\n",
       "      <td>77.1</td>\n",
       "      <td>35.8</td>\n",
       "      <td>26.2</td>\n",
       "    </tr>\n",
       "    <tr>\n",
       "      <th>importance2</th>\n",
       "      <td>22.1</td>\n",
       "      <td>63.4</td>\n",
       "      <td>28.8</td>\n",
       "      <td>58.9</td>\n",
       "      <td>21.3</td>\n",
       "    </tr>\n",
       "    <tr>\n",
       "      <th>score1</th>\n",
       "      <td>1</td>\n",
       "      <td>0</td>\n",
       "      <td>3</td>\n",
       "      <td>0</td>\n",
       "      <td>2</td>\n",
       "    </tr>\n",
       "    <tr>\n",
       "      <th>score2</th>\n",
       "      <td>0</td>\n",
       "      <td>4</td>\n",
       "      <td>0</td>\n",
       "      <td>1</td>\n",
       "      <td>2</td>\n",
       "    </tr>\n",
       "    <tr>\n",
       "      <th>xg1</th>\n",
       "      <td>1.39</td>\n",
       "      <td>0.57</td>\n",
       "      <td>0.49</td>\n",
       "      <td>1.12</td>\n",
       "      <td>2.77</td>\n",
       "    </tr>\n",
       "    <tr>\n",
       "      <th>xg2</th>\n",
       "      <td>0.26</td>\n",
       "      <td>2.76</td>\n",
       "      <td>0.45</td>\n",
       "      <td>0.97</td>\n",
       "      <td>3.17</td>\n",
       "    </tr>\n",
       "    <tr>\n",
       "      <th>nsxg1</th>\n",
       "      <td>2.05</td>\n",
       "      <td>0.8</td>\n",
       "      <td>1.05</td>\n",
       "      <td>1.51</td>\n",
       "      <td>1.05</td>\n",
       "    </tr>\n",
       "    <tr>\n",
       "      <th>nsxg2</th>\n",
       "      <td>0.54</td>\n",
       "      <td>1.5</td>\n",
       "      <td>0.75</td>\n",
       "      <td>0.94</td>\n",
       "      <td>2.08</td>\n",
       "    </tr>\n",
       "    <tr>\n",
       "      <th>adj_score1</th>\n",
       "      <td>1.05</td>\n",
       "      <td>0</td>\n",
       "      <td>3.15</td>\n",
       "      <td>0</td>\n",
       "      <td>2.1</td>\n",
       "    </tr>\n",
       "    <tr>\n",
       "      <th>adj_score2</th>\n",
       "      <td>0</td>\n",
       "      <td>3.26</td>\n",
       "      <td>0</td>\n",
       "      <td>1.05</td>\n",
       "      <td>2.1</td>\n",
       "    </tr>\n",
       "    <tr>\n",
       "      <th>Outcome</th>\n",
       "      <td>1</td>\n",
       "      <td>0</td>\n",
       "      <td>1</td>\n",
       "      <td>0</td>\n",
       "      <td>1</td>\n",
       "    </tr>\n",
       "  </tbody>\n",
       "</table>\n",
       "</div>"
      ],
      "text/plain": [
       "                                0                     1                     2  \\\n",
       "season                       2019                  2019                  2019   \n",
       "date          2019-01-03 00:00:00   2019-01-03 00:00:00   2019-01-03 00:00:00   \n",
       "league_id                    1979                  1979                  1979   \n",
       "league       Chinese Super League  Chinese Super League  Chinese Super League   \n",
       "Team 1            Shandong Luneng    Shanghai Greenland  Guangzhou Evergrande   \n",
       "Team2               Guizhou Renhe         Shanghai SIPG     Tianjin Quanujian   \n",
       "SPI1                        48.22                 39.81                 65.59   \n",
       "SPI2                        37.83                 60.08                 39.99   \n",
       "proj_score1                  1.75                  1.22                  2.58   \n",
       "proj_score2                  0.84                  1.89                  0.62   \n",
       "importance1                  45.9                  25.6                  77.1   \n",
       "importance2                  22.1                  63.4                  28.8   \n",
       "score1                          1                     0                     3   \n",
       "score2                          0                     4                     0   \n",
       "xg1                          1.39                  0.57                  0.49   \n",
       "xg2                          0.26                  2.76                  0.45   \n",
       "nsxg1                        2.05                   0.8                  1.05   \n",
       "nsxg2                        0.54                   1.5                  0.75   \n",
       "adj_score1                   1.05                     0                  3.15   \n",
       "adj_score2                      0                  3.26                     0   \n",
       "Outcome                         1                     0                     1   \n",
       "\n",
       "                                3                     4  \n",
       "season                       2019                  2019  \n",
       "date          2019-01-03 00:00:00   2019-01-03 00:00:00  \n",
       "league_id                    1979                  1979  \n",
       "league       Chinese Super League  Chinese Super League  \n",
       "Team 1                 Wuhan Zall       Chongqing Lifan  \n",
       "Team2               Beijing Guoan          Guangzhou RF  \n",
       "SPI1                        32.25                 38.24  \n",
       "SPI2                        54.82                 40.45  \n",
       "proj_score1                   1.1                  1.57  \n",
       "proj_score2                  1.79                  1.24  \n",
       "importance1                  35.8                  26.2  \n",
       "importance2                  58.9                  21.3  \n",
       "score1                          0                     2  \n",
       "score2                          1                     2  \n",
       "xg1                          1.12                  2.77  \n",
       "xg2                          0.97                  3.17  \n",
       "nsxg1                        1.51                  1.05  \n",
       "nsxg2                        0.94                  2.08  \n",
       "adj_score1                      0                   2.1  \n",
       "adj_score2                   1.05                   2.1  \n",
       "Outcome                         0                     1  "
      ]
     },
     "execution_count": 4,
     "metadata": {},
     "output_type": "execute_result"
    }
   ],
   "source": [
    "data.head().T"
   ]
  },
  {
   "cell_type": "code",
   "execution_count": 5,
   "metadata": {},
   "outputs": [
    {
     "data": {
      "text/plain": [
       "season            0\n",
       "date              0\n",
       "league_id         0\n",
       "league            0\n",
       "Team 1            0\n",
       "Team2             0\n",
       "SPI1              0\n",
       "SPI2              0\n",
       "proj_score1       0\n",
       "proj_score2       0\n",
       "importance1    4916\n",
       "importance2    4916\n",
       "score1         4800\n",
       "score2         4800\n",
       "xg1            5728\n",
       "xg2            5728\n",
       "nsxg1          5728\n",
       "nsxg2          5728\n",
       "adj_score1     5728\n",
       "adj_score2     5728\n",
       "Outcome           0\n",
       "dtype: int64"
      ]
     },
     "execution_count": 5,
     "metadata": {},
     "output_type": "execute_result"
    }
   ],
   "source": [
    "data.isnull().sum()"
   ]
  },
  {
   "cell_type": "code",
   "execution_count": 6,
   "metadata": {},
   "outputs": [
    {
     "data": {
      "text/plain": [
       "season                  int64\n",
       "date           datetime64[ns]\n",
       "league_id               int64\n",
       "league                 object\n",
       "Team 1                 object\n",
       "Team2                  object\n",
       "SPI1                  float64\n",
       "SPI2                  float64\n",
       "proj_score1           float64\n",
       "proj_score2           float64\n",
       "importance1           float64\n",
       "importance2           float64\n",
       "score1                float64\n",
       "score2                float64\n",
       "xg1                   float64\n",
       "xg2                   float64\n",
       "nsxg1                 float64\n",
       "nsxg2                 float64\n",
       "adj_score1            float64\n",
       "adj_score2            float64\n",
       "Outcome                 int64\n",
       "dtype: object"
      ]
     },
     "execution_count": 6,
     "metadata": {},
     "output_type": "execute_result"
    }
   ],
   "source": [
    "data.dtypes"
   ]
  },
  {
   "cell_type": "markdown",
   "metadata": {},
   "source": [
    "So we have some object dtype and missing values."
   ]
  },
  {
   "cell_type": "markdown",
   "metadata": {},
   "source": [
    "### Correlation Matrix"
   ]
  },
  {
   "cell_type": "code",
   "execution_count": 7,
   "metadata": {},
   "outputs": [],
   "source": [
    "#getting correlation\n",
    "corr = data.corr()"
   ]
  },
  {
   "cell_type": "code",
   "execution_count": 8,
   "metadata": {},
   "outputs": [
    {
     "data": {
      "image/png": "[encoded data removed]",
      "text/plain": [
       "<Figure size 864x720 with 2 Axes>"
      ]
     },
     "metadata": {
      "needs_background": "light"
     },
     "output_type": "display_data"
    }
   ],
   "source": [
    "fig,ax = plt.subplots(figsize=(12,10))\n",
    "sns.heatmap(corr,annot=True);"
   ]
  },
  {
   "cell_type": "markdown",
   "metadata": {},
   "source": [
    "So we can see that features **score1, score2** is highly correlated to **adj_score1, adj_score2**"
   ]
  },
  {
   "cell_type": "markdown",
   "metadata": {},
   "source": [
    "So we will drop this features"
   ]
  },
  {
   "cell_type": "code",
   "execution_count": 9,
   "metadata": {},
   "outputs": [],
   "source": [
    "data.drop('adj_score1',axis=1,inplace=True)"
   ]
  },
  {
   "cell_type": "code",
   "execution_count": 10,
   "metadata": {},
   "outputs": [],
   "source": [
    "data.drop('adj_score2',axis=1,inplace=True)"
   ]
  },
  {
   "cell_type": "code",
   "execution_count": 11,
   "metadata": {},
   "outputs": [
    {
     "name": "stdout",
     "output_type": "stream",
     "text": [
      "<class 'pandas.core.frame.DataFrame'>\n",
      "RangeIndex: 7443 entries, 0 to 7442\n",
      "Data columns (total 19 columns):\n",
      " #   Column       Non-Null Count  Dtype         \n",
      "---  ------       --------------  -----         \n",
      " 0   season       7443 non-null   int64         \n",
      " 1   date         7443 non-null   datetime64[ns]\n",
      " 2   league_id    7443 non-null   int64         \n",
      " 3   league       7443 non-null   object        \n",
      " 4   Team 1       7443 non-null   object        \n",
      " 5   Team2        7443 non-null   object        \n",
      " 6   SPI1         7443 non-null   float64       \n",
      " 7   SPI2         7443 non-null   float64       \n",
      " 8   proj_score1  7443 non-null   float64       \n",
      " 9   proj_score2  7443 non-null   float64       \n",
      " 10  importance1  2527 non-null   float64       \n",
      " 11  importance2  2527 non-null   float64       \n",
      " 12  score1       2643 non-null   float64       \n",
      " 13  score2       2643 non-null   float64       \n",
      " 14  xg1          1715 non-null   float64       \n",
      " 15  xg2          1715 non-null   float64       \n",
      " 16  nsxg1        1715 non-null   float64       \n",
      " 17  nsxg2        1715 non-null   float64       \n",
      " 18  Outcome      7443 non-null   int64         \n",
      "dtypes: datetime64[ns](1), float64(12), int64(3), object(3)\n",
      "memory usage: 1.1+ MB\n"
     ]
    }
   ],
   "source": [
    "data.info()"
   ]
  },
  {
   "cell_type": "code",
   "execution_count": 12,
   "metadata": {},
   "outputs": [
    {
     "data": {
      "text/html": [
       "<div>\n",
       "<style scoped>\n",
       "    .dataframe tbody tr th:only-of-type {\n",
       "        vertical-align: middle;\n",
       "    }\n",
       "\n",
       "    .dataframe tbody tr th {\n",
       "        vertical-align: top;\n",
       "    }\n",
       "\n",
       "    .dataframe thead th {\n",
       "        text-align: right;\n",
       "    }\n",
       "</style>\n",
       "<table border=\"1\" class=\"dataframe\">\n",
       "  <thead>\n",
       "    <tr style=\"text-align: right;\">\n",
       "      <th></th>\n",
       "      <th>season</th>\n",
       "      <th>date</th>\n",
       "      <th>league_id</th>\n",
       "      <th>league</th>\n",
       "      <th>Team 1</th>\n",
       "      <th>Team2</th>\n",
       "      <th>SPI1</th>\n",
       "      <th>SPI2</th>\n",
       "      <th>proj_score1</th>\n",
       "      <th>proj_score2</th>\n",
       "      <th>importance1</th>\n",
       "      <th>importance2</th>\n",
       "      <th>score1</th>\n",
       "      <th>score2</th>\n",
       "      <th>xg1</th>\n",
       "      <th>xg2</th>\n",
       "      <th>nsxg1</th>\n",
       "      <th>nsxg2</th>\n",
       "      <th>Outcome</th>\n",
       "    </tr>\n",
       "  </thead>\n",
       "  <tbody>\n",
       "    <tr>\n",
       "      <th>0</th>\n",
       "      <td>2019</td>\n",
       "      <td>2019-01-03</td>\n",
       "      <td>1979</td>\n",
       "      <td>Chinese Super League</td>\n",
       "      <td>Shandong Luneng</td>\n",
       "      <td>Guizhou Renhe</td>\n",
       "      <td>48.22</td>\n",
       "      <td>37.83</td>\n",
       "      <td>1.75</td>\n",
       "      <td>0.84</td>\n",
       "      <td>45.9</td>\n",
       "      <td>22.1</td>\n",
       "      <td>1.0</td>\n",
       "      <td>0.0</td>\n",
       "      <td>1.39</td>\n",
       "      <td>0.26</td>\n",
       "      <td>2.05</td>\n",
       "      <td>0.54</td>\n",
       "      <td>1</td>\n",
       "    </tr>\n",
       "    <tr>\n",
       "      <th>1</th>\n",
       "      <td>2019</td>\n",
       "      <td>2019-01-03</td>\n",
       "      <td>1979</td>\n",
       "      <td>Chinese Super League</td>\n",
       "      <td>Shanghai Greenland</td>\n",
       "      <td>Shanghai SIPG</td>\n",
       "      <td>39.81</td>\n",
       "      <td>60.08</td>\n",
       "      <td>1.22</td>\n",
       "      <td>1.89</td>\n",
       "      <td>25.6</td>\n",
       "      <td>63.4</td>\n",
       "      <td>0.0</td>\n",
       "      <td>4.0</td>\n",
       "      <td>0.57</td>\n",
       "      <td>2.76</td>\n",
       "      <td>0.80</td>\n",
       "      <td>1.50</td>\n",
       "      <td>0</td>\n",
       "    </tr>\n",
       "    <tr>\n",
       "      <th>2</th>\n",
       "      <td>2019</td>\n",
       "      <td>2019-01-03</td>\n",
       "      <td>1979</td>\n",
       "      <td>Chinese Super League</td>\n",
       "      <td>Guangzhou Evergrande</td>\n",
       "      <td>Tianjin Quanujian</td>\n",
       "      <td>65.59</td>\n",
       "      <td>39.99</td>\n",
       "      <td>2.58</td>\n",
       "      <td>0.62</td>\n",
       "      <td>77.1</td>\n",
       "      <td>28.8</td>\n",
       "      <td>3.0</td>\n",
       "      <td>0.0</td>\n",
       "      <td>0.49</td>\n",
       "      <td>0.45</td>\n",
       "      <td>1.05</td>\n",
       "      <td>0.75</td>\n",
       "      <td>1</td>\n",
       "    </tr>\n",
       "    <tr>\n",
       "      <th>3</th>\n",
       "      <td>2019</td>\n",
       "      <td>2019-01-03</td>\n",
       "      <td>1979</td>\n",
       "      <td>Chinese Super League</td>\n",
       "      <td>Wuhan Zall</td>\n",
       "      <td>Beijing Guoan</td>\n",
       "      <td>32.25</td>\n",
       "      <td>54.82</td>\n",
       "      <td>1.10</td>\n",
       "      <td>1.79</td>\n",
       "      <td>35.8</td>\n",
       "      <td>58.9</td>\n",
       "      <td>0.0</td>\n",
       "      <td>1.0</td>\n",
       "      <td>1.12</td>\n",
       "      <td>0.97</td>\n",
       "      <td>1.51</td>\n",
       "      <td>0.94</td>\n",
       "      <td>0</td>\n",
       "    </tr>\n",
       "    <tr>\n",
       "      <th>4</th>\n",
       "      <td>2019</td>\n",
       "      <td>2019-01-03</td>\n",
       "      <td>1979</td>\n",
       "      <td>Chinese Super League</td>\n",
       "      <td>Chongqing Lifan</td>\n",
       "      <td>Guangzhou RF</td>\n",
       "      <td>38.24</td>\n",
       "      <td>40.45</td>\n",
       "      <td>1.57</td>\n",
       "      <td>1.24</td>\n",
       "      <td>26.2</td>\n",
       "      <td>21.3</td>\n",
       "      <td>2.0</td>\n",
       "      <td>2.0</td>\n",
       "      <td>2.77</td>\n",
       "      <td>3.17</td>\n",
       "      <td>1.05</td>\n",
       "      <td>2.08</td>\n",
       "      <td>1</td>\n",
       "    </tr>\n",
       "  </tbody>\n",
       "</table>\n",
       "</div>"
      ],
      "text/plain": [
       "   season       date  league_id                league                Team 1  \\\n",
       "0    2019 2019-01-03       1979  Chinese Super League       Shandong Luneng   \n",
       "1    2019 2019-01-03       1979  Chinese Super League    Shanghai Greenland   \n",
       "2    2019 2019-01-03       1979  Chinese Super League  Guangzhou Evergrande   \n",
       "3    2019 2019-01-03       1979  Chinese Super League            Wuhan Zall   \n",
       "4    2019 2019-01-03       1979  Chinese Super League       Chongqing Lifan   \n",
       "\n",
       "               Team2   SPI1   SPI2  proj_score1  proj_score2  importance1  \\\n",
       "0      Guizhou Renhe  48.22  37.83         1.75         0.84         45.9   \n",
       "1      Shanghai SIPG  39.81  60.08         1.22         1.89         25.6   \n",
       "2  Tianjin Quanujian  65.59  39.99         2.58         0.62         77.1   \n",
       "3      Beijing Guoan  32.25  54.82         1.10         1.79         35.8   \n",
       "4       Guangzhou RF  38.24  40.45         1.57         1.24         26.2   \n",
       "\n",
       "   importance2  score1  score2   xg1   xg2  nsxg1  nsxg2  Outcome  \n",
       "0         22.1     1.0     0.0  1.39  0.26   2.05   0.54        1  \n",
       "1         63.4     0.0     4.0  0.57  2.76   0.80   1.50        0  \n",
       "2         28.8     3.0     0.0  0.49  0.45   1.05   0.75        1  \n",
       "3         58.9     0.0     1.0  1.12  0.97   1.51   0.94        0  \n",
       "4         21.3     2.0     2.0  2.77  3.17   1.05   2.08        1  "
      ]
     },
     "execution_count": 12,
     "metadata": {},
     "output_type": "execute_result"
    }
   ],
   "source": [
    "data.head()"
   ]
  },
  {
   "cell_type": "code",
   "execution_count": 13,
   "metadata": {},
   "outputs": [],
   "source": [
    "#let's make copy of our data\n",
    "data_tmp = data.copy()"
   ]
  },
  {
   "cell_type": "code",
   "execution_count": 14,
   "metadata": {},
   "outputs": [
    {
     "name": "stdout",
     "output_type": "stream",
     "text": [
      "<class 'pandas.core.frame.DataFrame'>\n",
      "RangeIndex: 7443 entries, 0 to 7442\n",
      "Data columns (total 19 columns):\n",
      " #   Column       Non-Null Count  Dtype         \n",
      "---  ------       --------------  -----         \n",
      " 0   season       7443 non-null   int64         \n",
      " 1   date         7443 non-null   datetime64[ns]\n",
      " 2   league_id    7443 non-null   int64         \n",
      " 3   league       7443 non-null   object        \n",
      " 4   Team 1       7443 non-null   object        \n",
      " 5   Team2        7443 non-null   object        \n",
      " 6   SPI1         7443 non-null   float64       \n",
      " 7   SPI2         7443 non-null   float64       \n",
      " 8   proj_score1  7443 non-null   float64       \n",
      " 9   proj_score2  7443 non-null   float64       \n",
      " 10  importance1  2527 non-null   float64       \n",
      " 11  importance2  2527 non-null   float64       \n",
      " 12  score1       2643 non-null   float64       \n",
      " 13  score2       2643 non-null   float64       \n",
      " 14  xg1          1715 non-null   float64       \n",
      " 15  xg2          1715 non-null   float64       \n",
      " 16  nsxg1        1715 non-null   float64       \n",
      " 17  nsxg2        1715 non-null   float64       \n",
      " 18  Outcome      7443 non-null   int64         \n",
      "dtypes: datetime64[ns](1), float64(12), int64(3), object(3)\n",
      "memory usage: 1.1+ MB\n"
     ]
    }
   ],
   "source": [
    "data_tmp.info()"
   ]
  },
  {
   "cell_type": "code",
   "execution_count": 15,
   "metadata": {},
   "outputs": [],
   "source": [
    "#let's first get our date in separate column\n",
    "data_tmp['Date'] = data_tmp['date'].dt.day\n",
    "data_tmp['Month'] = data_tmp['date'].dt.month\n",
    "data_tmp['Year'] = data_tmp['date'].dt.year"
   ]
  },
  {
   "cell_type": "code",
   "execution_count": 16,
   "metadata": {},
   "outputs": [],
   "source": [
    "#now let's drop our original date column\n",
    "data_tmp.drop('date',axis=1,inplace=True)"
   ]
  },
  {
   "cell_type": "code",
   "execution_count": 17,
   "metadata": {},
   "outputs": [
    {
     "data": {
      "text/html": [
       "<div>\n",
       "<style scoped>\n",
       "    .dataframe tbody tr th:only-of-type {\n",
       "        vertical-align: middle;\n",
       "    }\n",
       "\n",
       "    .dataframe tbody tr th {\n",
       "        vertical-align: top;\n",
       "    }\n",
       "\n",
       "    .dataframe thead th {\n",
       "        text-align: right;\n",
       "    }\n",
       "</style>\n",
       "<table border=\"1\" class=\"dataframe\">\n",
       "  <thead>\n",
       "    <tr style=\"text-align: right;\">\n",
       "      <th></th>\n",
       "      <th>season</th>\n",
       "      <th>league_id</th>\n",
       "      <th>league</th>\n",
       "      <th>Team 1</th>\n",
       "      <th>Team2</th>\n",
       "      <th>SPI1</th>\n",
       "      <th>SPI2</th>\n",
       "      <th>proj_score1</th>\n",
       "      <th>proj_score2</th>\n",
       "      <th>importance1</th>\n",
       "      <th>...</th>\n",
       "      <th>score1</th>\n",
       "      <th>score2</th>\n",
       "      <th>xg1</th>\n",
       "      <th>xg2</th>\n",
       "      <th>nsxg1</th>\n",
       "      <th>nsxg2</th>\n",
       "      <th>Outcome</th>\n",
       "      <th>Date</th>\n",
       "      <th>Month</th>\n",
       "      <th>Year</th>\n",
       "    </tr>\n",
       "  </thead>\n",
       "  <tbody>\n",
       "    <tr>\n",
       "      <th>0</th>\n",
       "      <td>2019</td>\n",
       "      <td>1979</td>\n",
       "      <td>Chinese Super League</td>\n",
       "      <td>Shandong Luneng</td>\n",
       "      <td>Guizhou Renhe</td>\n",
       "      <td>48.22</td>\n",
       "      <td>37.83</td>\n",
       "      <td>1.75</td>\n",
       "      <td>0.84</td>\n",
       "      <td>45.9</td>\n",
       "      <td>...</td>\n",
       "      <td>1.0</td>\n",
       "      <td>0.0</td>\n",
       "      <td>1.39</td>\n",
       "      <td>0.26</td>\n",
       "      <td>2.05</td>\n",
       "      <td>0.54</td>\n",
       "      <td>1</td>\n",
       "      <td>3</td>\n",
       "      <td>1</td>\n",
       "      <td>2019</td>\n",
       "    </tr>\n",
       "    <tr>\n",
       "      <th>1</th>\n",
       "      <td>2019</td>\n",
       "      <td>1979</td>\n",
       "      <td>Chinese Super League</td>\n",
       "      <td>Shanghai Greenland</td>\n",
       "      <td>Shanghai SIPG</td>\n",
       "      <td>39.81</td>\n",
       "      <td>60.08</td>\n",
       "      <td>1.22</td>\n",
       "      <td>1.89</td>\n",
       "      <td>25.6</td>\n",
       "      <td>...</td>\n",
       "      <td>0.0</td>\n",
       "      <td>4.0</td>\n",
       "      <td>0.57</td>\n",
       "      <td>2.76</td>\n",
       "      <td>0.80</td>\n",
       "      <td>1.50</td>\n",
       "      <td>0</td>\n",
       "      <td>3</td>\n",
       "      <td>1</td>\n",
       "      <td>2019</td>\n",
       "    </tr>\n",
       "    <tr>\n",
       "      <th>2</th>\n",
       "      <td>2019</td>\n",
       "      <td>1979</td>\n",
       "      <td>Chinese Super League</td>\n",
       "      <td>Guangzhou Evergrande</td>\n",
       "      <td>Tianjin Quanujian</td>\n",
       "      <td>65.59</td>\n",
       "      <td>39.99</td>\n",
       "      <td>2.58</td>\n",
       "      <td>0.62</td>\n",
       "      <td>77.1</td>\n",
       "      <td>...</td>\n",
       "      <td>3.0</td>\n",
       "      <td>0.0</td>\n",
       "      <td>0.49</td>\n",
       "      <td>0.45</td>\n",
       "      <td>1.05</td>\n",
       "      <td>0.75</td>\n",
       "      <td>1</td>\n",
       "      <td>3</td>\n",
       "      <td>1</td>\n",
       "      <td>2019</td>\n",
       "    </tr>\n",
       "    <tr>\n",
       "      <th>3</th>\n",
       "      <td>2019</td>\n",
       "      <td>1979</td>\n",
       "      <td>Chinese Super League</td>\n",
       "      <td>Wuhan Zall</td>\n",
       "      <td>Beijing Guoan</td>\n",
       "      <td>32.25</td>\n",
       "      <td>54.82</td>\n",
       "      <td>1.10</td>\n",
       "      <td>1.79</td>\n",
       "      <td>35.8</td>\n",
       "      <td>...</td>\n",
       "      <td>0.0</td>\n",
       "      <td>1.0</td>\n",
       "      <td>1.12</td>\n",
       "      <td>0.97</td>\n",
       "      <td>1.51</td>\n",
       "      <td>0.94</td>\n",
       "      <td>0</td>\n",
       "      <td>3</td>\n",
       "      <td>1</td>\n",
       "      <td>2019</td>\n",
       "    </tr>\n",
       "    <tr>\n",
       "      <th>4</th>\n",
       "      <td>2019</td>\n",
       "      <td>1979</td>\n",
       "      <td>Chinese Super League</td>\n",
       "      <td>Chongqing Lifan</td>\n",
       "      <td>Guangzhou RF</td>\n",
       "      <td>38.24</td>\n",
       "      <td>40.45</td>\n",
       "      <td>1.57</td>\n",
       "      <td>1.24</td>\n",
       "      <td>26.2</td>\n",
       "      <td>...</td>\n",
       "      <td>2.0</td>\n",
       "      <td>2.0</td>\n",
       "      <td>2.77</td>\n",
       "      <td>3.17</td>\n",
       "      <td>1.05</td>\n",
       "      <td>2.08</td>\n",
       "      <td>1</td>\n",
       "      <td>3</td>\n",
       "      <td>1</td>\n",
       "      <td>2019</td>\n",
       "    </tr>\n",
       "  </tbody>\n",
       "</table>\n",
       "<p>5 rows × 21 columns</p>\n",
       "</div>"
      ],
      "text/plain": [
       "   season  league_id                league                Team 1  \\\n",
       "0    2019       1979  Chinese Super League       Shandong Luneng   \n",
       "1    2019       1979  Chinese Super League    Shanghai Greenland   \n",
       "2    2019       1979  Chinese Super League  Guangzhou Evergrande   \n",
       "3    2019       1979  Chinese Super League            Wuhan Zall   \n",
       "4    2019       1979  Chinese Super League       Chongqing Lifan   \n",
       "\n",
       "               Team2   SPI1   SPI2  proj_score1  proj_score2  importance1  \\\n",
       "0      Guizhou Renhe  48.22  37.83         1.75         0.84         45.9   \n",
       "1      Shanghai SIPG  39.81  60.08         1.22         1.89         25.6   \n",
       "2  Tianjin Quanujian  65.59  39.99         2.58         0.62         77.1   \n",
       "3      Beijing Guoan  32.25  54.82         1.10         1.79         35.8   \n",
       "4       Guangzhou RF  38.24  40.45         1.57         1.24         26.2   \n",
       "\n",
       "   ...  score1  score2   xg1   xg2  nsxg1  nsxg2  Outcome  Date  Month  Year  \n",
       "0  ...     1.0     0.0  1.39  0.26   2.05   0.54        1     3      1  2019  \n",
       "1  ...     0.0     4.0  0.57  2.76   0.80   1.50        0     3      1  2019  \n",
       "2  ...     3.0     0.0  0.49  0.45   1.05   0.75        1     3      1  2019  \n",
       "3  ...     0.0     1.0  1.12  0.97   1.51   0.94        0     3      1  2019  \n",
       "4  ...     2.0     2.0  2.77  3.17   1.05   2.08        1     3      1  2019  \n",
       "\n",
       "[5 rows x 21 columns]"
      ]
     },
     "execution_count": 17,
     "metadata": {},
     "output_type": "execute_result"
    }
   ],
   "source": [
    "data_tmp.head()"
   ]
  },
  {
   "cell_type": "markdown",
   "metadata": {},
   "source": [
    "Let's get our correlation again because maybe feature season and year maybe correlate "
   ]
  },
  {
   "cell_type": "code",
   "execution_count": 18,
   "metadata": {},
   "outputs": [
    {
     "data": {
      "text/plain": [
       "<AxesSubplot:>"
      ]
     },
     "execution_count": 18,
     "metadata": {},
     "output_type": "execute_result"
    },
    {
     "data": {
      "image/png": "[encoded data removed]",
      "text/plain": [
       "<Figure size 864x720 with 2 Axes>"
      ]
     },
     "metadata": {
      "needs_background": "light"
     },
     "output_type": "display_data"
    }
   ],
   "source": [
    "corr = data_tmp.corr()\n",
    "fig,ax = plt.subplots(figsize=(12,10))\n",
    "sns.heatmap(corr,annot=True)"
   ]
  },
  {
   "cell_type": "markdown",
   "metadata": {},
   "source": [
    "Yes they are highly correlated so we will drop the year column "
   ]
  },
  {
   "cell_type": "code",
   "execution_count": 19,
   "metadata": {},
   "outputs": [],
   "source": [
    "data_tmp.drop('Year',axis=1,inplace=True)"
   ]
  },
  {
   "cell_type": "code",
   "execution_count": 20,
   "metadata": {},
   "outputs": [
    {
     "name": "stdout",
     "output_type": "stream",
     "text": [
      "<class 'pandas.core.frame.DataFrame'>\n",
      "RangeIndex: 7443 entries, 0 to 7442\n",
      "Data columns (total 20 columns):\n",
      " #   Column       Non-Null Count  Dtype  \n",
      "---  ------       --------------  -----  \n",
      " 0   season       7443 non-null   int64  \n",
      " 1   league_id    7443 non-null   int64  \n",
      " 2   league       7443 non-null   object \n",
      " 3   Team 1       7443 non-null   object \n",
      " 4   Team2        7443 non-null   object \n",
      " 5   SPI1         7443 non-null   float64\n",
      " 6   SPI2         7443 non-null   float64\n",
      " 7   proj_score1  7443 non-null   float64\n",
      " 8   proj_score2  7443 non-null   float64\n",
      " 9   importance1  2527 non-null   float64\n",
      " 10  importance2  2527 non-null   float64\n",
      " 11  score1       2643 non-null   float64\n",
      " 12  score2       2643 non-null   float64\n",
      " 13  xg1          1715 non-null   float64\n",
      " 14  xg2          1715 non-null   float64\n",
      " 15  nsxg1        1715 non-null   float64\n",
      " 16  nsxg2        1715 non-null   float64\n",
      " 17  Outcome      7443 non-null   int64  \n",
      " 18  Date         7443 non-null   int64  \n",
      " 19  Month        7443 non-null   int64  \n",
      "dtypes: float64(12), int64(5), object(3)\n",
      "memory usage: 1.1+ MB\n"
     ]
    }
   ],
   "source": [
    "data_tmp.info()"
   ]
  },
  {
   "cell_type": "code",
   "execution_count": 21,
   "metadata": {},
   "outputs": [
    {
     "data": {
      "text/plain": [
       "array(['Chinese Super League', 'UEFA Champions League',\n",
       "       'UEFA Europa League', 'AAL',\n",
       "       'Mexican Primera Division Torneo Clausura', 'Japanese J League',\n",
       "       'NWSL Challenge Cup', 'Swedish Allsvenskan', 'Major League Soccer',\n",
       "       'United Soccer League', 'Norwegian Tippeligaen',\n",
       "       \"National Women's Soccer League\", 'Brasileiro Série A',\n",
       "       'Danish SAS-Ligaen', 'APD',\n",
       "       'Mexican Primera Division Torneo Apertura', 'Russian Premier Liga',\n",
       "       'German 2. Bundesliga', 'ATMB', 'BJL', 'French Ligue 2',\n",
       "       'Swiss Raiffeisen Super League', 'Scottish Premiership',\n",
       "       'English League Championship', 'French Ligue 1', 'Portuguese Liga',\n",
       "       'English League Two', 'English League One', 'TTSL',\n",
       "       'Dutch Eredivisie', 'Spanish Segunda Division',\n",
       "       'German Bundesliga', 'BPL', 'Spanish Primera Division',\n",
       "       'South African ABSA Premier League', 'Italy Serie B',\n",
       "       'Italy Serie A', 'Greek Super League', \"FA Women's Super League\"],\n",
       "      dtype=object)"
      ]
     },
     "execution_count": 21,
     "metadata": {},
     "output_type": "execute_result"
    }
   ],
   "source": [
    "data_tmp['league'].unique()"
   ]
  },
  {
   "cell_type": "code",
   "execution_count": 22,
   "metadata": {},
   "outputs": [],
   "source": [
    "#for object dtype we will drop this columns\n",
    "data_tmp.drop('league',axis=1,inplace=True)\n",
    "data_tmp.drop('Team 1',axis=1,inplace=True)\n",
    "data_tmp.drop('Team2',axis=1,inplace=True)"
   ]
  },
  {
   "cell_type": "code",
   "execution_count": 23,
   "metadata": {},
   "outputs": [
    {
     "name": "stdout",
     "output_type": "stream",
     "text": [
      "<class 'pandas.core.frame.DataFrame'>\n",
      "RangeIndex: 7443 entries, 0 to 7442\n",
      "Data columns (total 17 columns):\n",
      " #   Column       Non-Null Count  Dtype  \n",
      "---  ------       --------------  -----  \n",
      " 0   season       7443 non-null   int64  \n",
      " 1   league_id    7443 non-null   int64  \n",
      " 2   SPI1         7443 non-null   float64\n",
      " 3   SPI2         7443 non-null   float64\n",
      " 4   proj_score1  7443 non-null   float64\n",
      " 5   proj_score2  7443 non-null   float64\n",
      " 6   importance1  2527 non-null   float64\n",
      " 7   importance2  2527 non-null   float64\n",
      " 8   score1       2643 non-null   float64\n",
      " 9   score2       2643 non-null   float64\n",
      " 10  xg1          1715 non-null   float64\n",
      " 11  xg2          1715 non-null   float64\n",
      " 12  nsxg1        1715 non-null   float64\n",
      " 13  nsxg2        1715 non-null   float64\n",
      " 14  Outcome      7443 non-null   int64  \n",
      " 15  Date         7443 non-null   int64  \n",
      " 16  Month        7443 non-null   int64  \n",
      "dtypes: float64(12), int64(5)\n",
      "memory usage: 988.6 KB\n"
     ]
    }
   ],
   "source": [
    "data_tmp.info()"
   ]
  },
  {
   "cell_type": "markdown",
   "metadata": {},
   "source": [
    "For missing we will fill the missing values with median"
   ]
  },
  {
   "cell_type": "markdown",
   "metadata": {},
   "source": [
    "### Filling Missing Values"
   ]
  },
  {
   "cell_type": "code",
   "execution_count": 24,
   "metadata": {},
   "outputs": [
    {
     "name": "stdout",
     "output_type": "stream",
     "text": [
      "importance1\n",
      "importance2\n",
      "score1\n",
      "score2\n",
      "xg1\n",
      "xg2\n",
      "nsxg1\n",
      "nsxg2\n"
     ]
    }
   ],
   "source": [
    "for label, content in data_tmp.items():\n",
    "    if pd.api.types.is_numeric_dtype(content):\n",
    "        if pd.isnull(content).sum():\n",
    "            print(label)\n",
    "            "
   ]
  },
  {
   "cell_type": "code",
   "execution_count": 25,
   "metadata": {},
   "outputs": [],
   "source": [
    "for label, content in data_tmp.items():\n",
    "    if pd.api.types.is_numeric_dtype(content):\n",
    "        if pd.isnull(content).sum():\n",
    "            data_tmp[label] = content.fillna(content.median())\n",
    "            "
   ]
  },
  {
   "cell_type": "code",
   "execution_count": 26,
   "metadata": {},
   "outputs": [
    {
     "data": {
      "text/plain": [
       "season         0\n",
       "league_id      0\n",
       "SPI1           0\n",
       "SPI2           0\n",
       "proj_score1    0\n",
       "proj_score2    0\n",
       "importance1    0\n",
       "importance2    0\n",
       "score1         0\n",
       "score2         0\n",
       "xg1            0\n",
       "xg2            0\n",
       "nsxg1          0\n",
       "nsxg2          0\n",
       "Outcome        0\n",
       "Date           0\n",
       "Month          0\n",
       "dtype: int64"
      ]
     },
     "execution_count": 26,
     "metadata": {},
     "output_type": "execute_result"
    }
   ],
   "source": [
    "data_tmp.isnull().sum()"
   ]
  },
  {
   "cell_type": "markdown",
   "metadata": {},
   "source": [
    "Our data is finally ready for modeling"
   ]
  },
  {
   "cell_type": "markdown",
   "metadata": {},
   "source": [
    "### Modeling"
   ]
  },
  {
   "cell_type": "code",
   "execution_count": 27,
   "metadata": {},
   "outputs": [
    {
     "data": {
      "text/plain": [
       "array([1, 0], dtype=int64)"
      ]
     },
     "execution_count": 27,
     "metadata": {},
     "output_type": "execute_result"
    }
   ],
   "source": [
    "data_tmp.Outcome.unique()"
   ]
  },
  {
   "cell_type": "code",
   "execution_count": 28,
   "metadata": {},
   "outputs": [],
   "source": [
    "#getting our lib\n",
    "from sklearn.model_selection import train_test_split, RandomizedSearchCV, GridSearchCV\n",
    "from sklearn.ensemble import RandomForestClassifier, GradientBoostingClassifier, BaggingClassifier, AdaBoostClassifier\n",
    "from catboost import CatBoostClassifier\n",
    "from xgboost import XGBClassifier\n",
    "from sklearn.metrics import confusion_matrix, classification_report, log_loss"
   ]
  },
  {
   "cell_type": "code",
   "execution_count": 29,
   "metadata": {},
   "outputs": [],
   "source": [
    "#getting our X and y and splittig training and validation set\n",
    "np.random.seed(42)\n",
    "X = data_tmp.drop('Outcome',axis=1)\n",
    "y = data_tmp['Outcome']\n",
    "\n",
    "X_train, X_val, y_train, y_val = train_test_split(X,y,test_size=0.2)"
   ]
  },
  {
   "cell_type": "code",
   "execution_count": 30,
   "metadata": {},
   "outputs": [
    {
     "data": {
      "text/plain": [
       "(5954, 1489)"
      ]
     },
     "execution_count": 30,
     "metadata": {},
     "output_type": "execute_result"
    }
   ],
   "source": [
    "len(X_train), len(X_val)"
   ]
  },
  {
   "cell_type": "code",
   "execution_count": 31,
   "metadata": {},
   "outputs": [],
   "source": [
    "models = {\n",
    "    'RandomForest':RandomForestClassifier(),\n",
    "    'GradientBoosting':GradientBoostingClassifier(),\n",
    "    'Bagging':BaggingClassifier(),\n",
    "    'Ada':AdaBoostClassifier(),\n",
    "    'CatBoost':CatBoostClassifier(silent=True),\n",
    "    'XGB':XGBClassifier()\n",
    "}"
   ]
  },
  {
   "cell_type": "code",
   "execution_count": 32,
   "metadata": {},
   "outputs": [],
   "source": [
    "def fit(model,X_train,X_val,y_train,y_val):\n",
    "    np.random.seed(42)\n",
    "    for name,model in models.items():\n",
    "        model.fit(X_train,y_train)\n",
    "        pred = model.predict_proba(X_val)\n",
    "        loss = log_loss(y_val,pred)\n",
    "        print(f'Log Loss for {name} is {loss}.')\n",
    "        "
   ]
  },
  {
   "cell_type": "code",
   "execution_count": 33,
   "metadata": {},
   "outputs": [
    {
     "name": "stdout",
     "output_type": "stream",
     "text": [
      "Log Loss for RandomForest is 0.06504650955734188.\n",
      "Log Loss for GradientBoosting is 0.040738550882459375.\n",
      "Log Loss for Bagging is 0.0492656454795246.\n",
      "Log Loss for Ada is 0.48528317747610944.\n",
      "Log Loss for CatBoost is 0.03275833822243544.\n"
     ]
    },
    {
     "name": "stderr",
     "output_type": "stream",
     "text": [
      "C:\\Users\\6\\anaconda3\\lib\\site-packages\\xgboost\\sklearn.py:1146: UserWarning: The use of label encoder in XGBClassifier is deprecated and will be removed in a future release. To remove this warning, do the following: 1) Pass option use_label_encoder=False when constructing XGBClassifier object; and 2) Encode your labels (y) as integers starting with 0, i.e. 0, 1, 2, ..., [num_class - 1].\n",
      "  warnings.warn(label_encoder_deprecation_msg, UserWarning)\n"
     ]
    },
    {
     "name": "stdout",
     "output_type": "stream",
     "text": [
      "[16:56:19] WARNING: C:/Users/Administrator/workspace/xgboost-win64_release_1.4.0/src/learner.cc:1095: Starting in XGBoost 1.3.0, the default evaluation metric used with the objective 'binary:logistic' was changed from 'error' to 'logloss'. Explicitly set eval_metric if you'd like to restore the old behavior.\n",
      "Log Loss for XGB is 0.030031375859284462.\n"
     ]
    }
   ],
   "source": [
    "fit(models,X_train,X_val,y_train,y_val)\n"
   ]
  },
  {
   "cell_type": "markdown",
   "metadata": {},
   "source": [
    "As we can XGB performs well than any other models, so well fit our baseline model with this default params"
   ]
  },
  {
   "cell_type": "code",
   "execution_count": 34,
   "metadata": {},
   "outputs": [
    {
     "name": "stdout",
     "output_type": "stream",
     "text": [
      "[16:56:19] WARNING: C:/Users/Administrator/workspace/xgboost-win64_release_1.4.0/src/learner.cc:1095: Starting in XGBoost 1.3.0, the default evaluation metric used with the objective 'binary:logistic' was changed from 'error' to 'logloss'. Explicitly set eval_metric if you'd like to restore the old behavior.\n"
     ]
    },
    {
     "name": "stderr",
     "output_type": "stream",
     "text": [
      "C:\\Users\\6\\anaconda3\\lib\\site-packages\\xgboost\\sklearn.py:1146: UserWarning: The use of label encoder in XGBClassifier is deprecated and will be removed in a future release. To remove this warning, do the following: 1) Pass option use_label_encoder=False when constructing XGBClassifier object; and 2) Encode your labels (y) as integers starting with 0, i.e. 0, 1, 2, ..., [num_class - 1].\n",
      "  warnings.warn(label_encoder_deprecation_msg, UserWarning)\n"
     ]
    },
    {
     "data": {
      "text/plain": [
       "0.030031375859284462"
      ]
     },
     "execution_count": 34,
     "metadata": {},
     "output_type": "execute_result"
    }
   ],
   "source": [
    "baseline_model = XGBClassifier()\n",
    "baseline_model.fit(X_train,y_train)\n",
    "pred = baseline_model.predict(X_val)\n",
    "pred_probs = baseline_model.predict_proba(X_val)\n",
    "baseline_loss = log_loss(y_val,pred_probs)\n",
    "baseline_loss"
   ]
  },
  {
   "cell_type": "markdown",
   "metadata": {},
   "source": [
    "#### Confusion matrix"
   ]
  },
  {
   "cell_type": "code",
   "execution_count": 35,
   "metadata": {},
   "outputs": [
    {
     "data": {
      "image/png": "[encoded data removed]",
      "text/plain": [
       "<Figure size 576x576 with 2 Axes>"
      ]
     },
     "metadata": {
      "needs_background": "light"
     },
     "output_type": "display_data"
    }
   ],
   "source": [
    "\n",
    "conf_matrix = confusion_matrix(y_val,pred)\n",
    "fig,ax = plt.subplots(figsize=(8,8))\n",
    "sns.heatmap(conf_matrix,annot=True);"
   ]
  },
  {
   "cell_type": "markdown",
   "metadata": {},
   "source": [
    "#### Classification Report"
   ]
  },
  {
   "cell_type": "code",
   "execution_count": 36,
   "metadata": {},
   "outputs": [
    {
     "name": "stdout",
     "output_type": "stream",
     "text": [
      "              precision    recall  f1-score   support\n",
      "\n",
      "           0       0.98      0.99      0.99       469\n",
      "           1       1.00      0.99      0.99      1020\n",
      "\n",
      "    accuracy                           0.99      1489\n",
      "   macro avg       0.99      0.99      0.99      1489\n",
      "weighted avg       0.99      0.99      0.99      1489\n",
      "\n"
     ]
    }
   ],
   "source": [
    "print(classification_report(y_val,pred))"
   ]
  },
  {
   "cell_type": "markdown",
   "metadata": {},
   "source": [
    "### Hypertuning our model"
   ]
  },
  {
   "cell_type": "markdown",
   "metadata": {},
   "source": [
    "#### By hand"
   ]
  },
  {
   "cell_type": "code",
   "execution_count": 37,
   "metadata": {},
   "outputs": [
    {
     "data": {
      "text/plain": [
       "XGBClassifier(base_score=0.5, booster='gbtree', colsample_bylevel=1,\n",
       "              colsample_bynode=1, colsample_bytree=1, gamma=0, gpu_id=-1,\n",
       "              importance_type='gain', interaction_constraints='',\n",
       "              learning_rate=0.300000012, max_delta_step=0, max_depth=6,\n",
       "              min_child_weight=1, missing=nan, monotone_constraints='()',\n",
       "              n_estimators=100, n_jobs=6, num_parallel_tree=1, random_state=0,\n",
       "              reg_alpha=0, reg_lambda=1, scale_pos_weight=1, subsample=1,\n",
       "              tree_method='exact', validate_parameters=1, verbosity=None)"
      ]
     },
     "execution_count": 37,
     "metadata": {},
     "output_type": "execute_result"
    }
   ],
   "source": [
    "baseline_model"
   ]
  },
  {
   "cell_type": "code",
   "execution_count": 40,
   "metadata": {},
   "outputs": [],
   "source": [
    "params = {\n",
    "    # Parameters that we are going to tune.\n",
    "    'max_depth':[1,2,3,6],\n",
    "    'min_child_weight': [1,2,3],\n",
    "    'learning_rate':[0.01,0.1,0.3,1],\n",
    "    'subsample':[1,2,3],\n",
    "    'colsample_bytree': [1,2,3],\n",
    "    'n_estimator':[100,300,500,900,1000]\n",
    "}"
   ]
  },
  {
   "cell_type": "code",
   "execution_count": 41,
   "metadata": {},
   "outputs": [
    {
     "name": "stdout",
     "output_type": "stream",
     "text": [
      "Fitting 5 folds for each of 10 candidates, totalling 50 fits\n"
     ]
    },
    {
     "name": "stderr",
     "output_type": "stream",
     "text": [
      "[Parallel(n_jobs=-1)]: Using backend LokyBackend with 6 concurrent workers.\n",
      "[Parallel(n_jobs=-1)]: Done  39 out of  50 | elapsed:    1.3s remaining:    0.3s\n",
      "[Parallel(n_jobs=-1)]: Done  50 out of  50 | elapsed:    1.9s finished\n",
      "C:\\Users\\6\\anaconda3\\lib\\site-packages\\xgboost\\sklearn.py:1146: UserWarning: The use of label encoder in XGBClassifier is deprecated and will be removed in a future release. To remove this warning, do the following: 1) Pass option use_label_encoder=False when constructing XGBClassifier object; and 2) Encode your labels (y) as integers starting with 0, i.e. 0, 1, 2, ..., [num_class - 1].\n",
      "  warnings.warn(label_encoder_deprecation_msg, UserWarning)\n"
     ]
    },
    {
     "name": "stdout",
     "output_type": "stream",
     "text": [
      "[17:09:06] WARNING: C:/Users/Administrator/workspace/xgboost-win64_release_1.4.0/src/learner.cc:573: \n",
      "Parameters: { \"n_estimator\" } might not be used.\n",
      "\n",
      "  This may not be accurate due to some parameters are only used in language bindings but\n",
      "  passed down to XGBoost core.  Or some parameters are not used but slip through this\n",
      "  verification. Please open an issue if you find above cases.\n",
      "\n",
      "\n",
      "[17:09:06] WARNING: C:/Users/Administrator/workspace/xgboost-win64_release_1.4.0/src/learner.cc:1095: Starting in XGBoost 1.3.0, the default evaluation metric used with the objective 'binary:logistic' was changed from 'error' to 'logloss'. Explicitly set eval_metric if you'd like to restore the old behavior.\n",
      "Wall time: 2.21 s\n"
     ]
    },
    {
     "data": {
      "text/plain": [
       "RandomizedSearchCV(cv=5,\n",
       "                   estimator=XGBClassifier(base_score=None, booster=None,\n",
       "                                           colsample_bylevel=None,\n",
       "                                           colsample_bynode=None,\n",
       "                                           colsample_bytree=None, gamma=None,\n",
       "                                           gpu_id=None, importance_type='gain',\n",
       "                                           interaction_constraints=None,\n",
       "                                           learning_rate=None,\n",
       "                                           max_delta_step=None, max_depth=None,\n",
       "                                           min_child_weight=None, missing=nan,\n",
       "                                           monotone_constraints=None,\n",
       "                                           n_estimators=100,...\n",
       "                                           random_state=None, reg_alpha=None,\n",
       "                                           reg_lambda=None,\n",
       "                                           scale_pos_weight=None,\n",
       "                                           subsample=None, tree_method=None,\n",
       "                                           validate_parameters=None,\n",
       "                                           verbosity=None),\n",
       "                   n_jobs=-1,\n",
       "                   param_distributions={'colsample_bytree': [1, 2, 3],\n",
       "                                        'learning_rate': [0.01, 0.1, 0.3, 1],\n",
       "                                        'max_depth': [1, 2, 3, 6],\n",
       "                                        'min_child_weight': [1, 2, 3],\n",
       "                                        'n_estimator': [100, 300, 500, 900,\n",
       "                                                        1000],\n",
       "                                        'subsample': [1, 2, 3]},\n",
       "                   verbose=True)"
      ]
     },
     "execution_count": 41,
     "metadata": {},
     "output_type": "execute_result"
    }
   ],
   "source": [
    "%%time\n",
    "np.random.seed(42)\n",
    "\n",
    "xgb_rs = RandomizedSearchCV(XGBClassifier(),params,cv=5,n_iter=10,verbose=True,n_jobs=-1)\n",
    "xgb_rs.fit(X_train,y_train)"
   ]
  },
  {
   "cell_type": "code",
   "execution_count": 44,
   "metadata": {},
   "outputs": [
    {
     "data": {
      "text/plain": [
       "{'subsample': 1,\n",
       " 'n_estimator': 100,\n",
       " 'min_child_weight': 2,\n",
       " 'max_depth': 6,\n",
       " 'learning_rate': 0.1,\n",
       " 'colsample_bytree': 1}"
      ]
     },
     "execution_count": 44,
     "metadata": {},
     "output_type": "execute_result"
    }
   ],
   "source": [
    "xgb_rs.best_params_"
   ]
  },
  {
   "cell_type": "code",
   "execution_count": 42,
   "metadata": {},
   "outputs": [],
   "source": [
    "proba_rs = xgb_rs.predict_proba(X_val)"
   ]
  },
  {
   "cell_type": "code",
   "execution_count": 43,
   "metadata": {},
   "outputs": [
    {
     "data": {
      "text/plain": [
       "0.026277960002399035"
      ]
     },
     "execution_count": 43,
     "metadata": {},
     "output_type": "execute_result"
    }
   ],
   "source": [
    "loss_rs = log_loss(y_val,proba_rs)\n",
    "loss_rs"
   ]
  },
  {
   "cell_type": "markdown",
   "metadata": {},
   "source": [
    "Woah that's pretty score than compare to baseline model"
   ]
  },
  {
   "cell_type": "markdown",
   "metadata": {},
   "source": [
    "### GridSearchCV"
   ]
  },
  {
   "cell_type": "code",
   "execution_count": 51,
   "metadata": {},
   "outputs": [],
   "source": [
    "params_grid = {\n",
    "    # Parameters that we are going to tune.\n",
    "    'max_depth':[5,6,7],\n",
    "    'min_child_weight': [1,2,3],\n",
    "    'learning_rate':[0.01,0.1,0.3],\n",
    "    'subsample':[1,2,3],\n",
    "    'colsample_bytree': [1,2,3],\n",
    "    'n_estimators':[100,900,1000]\n",
    "}"
   ]
  },
  {
   "cell_type": "code",
   "execution_count": 52,
   "metadata": {},
   "outputs": [
    {
     "name": "stdout",
     "output_type": "stream",
     "text": [
      "Fitting 5 folds for each of 729 candidates, totalling 3645 fits\n"
     ]
    },
    {
     "name": "stderr",
     "output_type": "stream",
     "text": [
      "[Parallel(n_jobs=-1)]: Using backend LokyBackend with 6 concurrent workers.\n",
      "[Parallel(n_jobs=-1)]: Done  38 tasks      | elapsed:    7.1s\n",
      "[Parallel(n_jobs=-1)]: Done 188 tasks      | elapsed:   34.3s\n",
      "[Parallel(n_jobs=-1)]: Done 438 tasks      | elapsed:  1.5min\n",
      "[Parallel(n_jobs=-1)]: Done 788 tasks      | elapsed:  2.3min\n",
      "[Parallel(n_jobs=-1)]: Done 1253 tasks      | elapsed:  3.2min\n",
      "[Parallel(n_jobs=-1)]: Done 3634 out of 3645 | elapsed:  3.2min remaining:    0.5s\n",
      "[Parallel(n_jobs=-1)]: Done 3645 out of 3645 | elapsed:  3.2min finished\n",
      "C:\\Users\\6\\anaconda3\\lib\\site-packages\\xgboost\\sklearn.py:1146: UserWarning: The use of label encoder in XGBClassifier is deprecated and will be removed in a future release. To remove this warning, do the following: 1) Pass option use_label_encoder=False when constructing XGBClassifier object; and 2) Encode your labels (y) as integers starting with 0, i.e. 0, 1, 2, ..., [num_class - 1].\n",
      "  warnings.warn(label_encoder_deprecation_msg, UserWarning)\n"
     ]
    },
    {
     "name": "stdout",
     "output_type": "stream",
     "text": [
      "[17:25:11] WARNING: C:/Users/Administrator/workspace/xgboost-win64_release_1.4.0/src/learner.cc:1095: Starting in XGBoost 1.3.0, the default evaluation metric used with the objective 'binary:logistic' was changed from 'error' to 'logloss'. Explicitly set eval_metric if you'd like to restore the old behavior.\n"
     ]
    },
    {
     "data": {
      "text/plain": [
       "GridSearchCV(cv=5,\n",
       "             estimator=XGBClassifier(base_score=None, booster=None,\n",
       "                                     colsample_bylevel=None,\n",
       "                                     colsample_bynode=None,\n",
       "                                     colsample_bytree=None, gamma=None,\n",
       "                                     gpu_id=None, importance_type='gain',\n",
       "                                     interaction_constraints=None,\n",
       "                                     learning_rate=None, max_delta_step=None,\n",
       "                                     max_depth=None, min_child_weight=None,\n",
       "                                     missing=nan, monotone_constraints=None,\n",
       "                                     n_estimators=100, n_jobs...\n",
       "                                     num_parallel_tree=None, random_state=None,\n",
       "                                     reg_alpha=None, reg_lambda=None,\n",
       "                                     scale_pos_weight=None, subsample=None,\n",
       "                                     tree_method=None, validate_parameters=None,\n",
       "                                     verbosity=None),\n",
       "             n_jobs=-1,\n",
       "             param_grid={'colsample_bytree': [1, 2, 3],\n",
       "                         'learning_rate': [0.01, 0.1, 0.3],\n",
       "                         'max_depth': [5, 6, 7], 'min_child_weight': [1, 2, 3],\n",
       "                         'n_estimators': [100, 900, 1000],\n",
       "                         'subsample': [1, 2, 3]},\n",
       "             verbose=True)"
      ]
     },
     "execution_count": 52,
     "metadata": {},
     "output_type": "execute_result"
    }
   ],
   "source": [
    "xgb_grid = GridSearchCV(XGBClassifier(),params_grid,cv=5,verbose=True,n_jobs=-1)\n",
    "xgb_grid.fit(X_train,y_train)"
   ]
  },
  {
   "cell_type": "code",
   "execution_count": 53,
   "metadata": {},
   "outputs": [
    {
     "data": {
      "text/plain": [
       "{'colsample_bytree': 1,\n",
       " 'learning_rate': 0.01,\n",
       " 'max_depth': 5,\n",
       " 'min_child_weight': 2,\n",
       " 'n_estimators': 900,\n",
       " 'subsample': 1}"
      ]
     },
     "execution_count": 53,
     "metadata": {},
     "output_type": "execute_result"
    }
   ],
   "source": [
    "xgb_grid.best_params_"
   ]
  },
  {
   "cell_type": "code",
   "execution_count": 54,
   "metadata": {},
   "outputs": [
    {
     "data": {
      "text/plain": [
       "0.027193377432777343"
      ]
     },
     "execution_count": 54,
     "metadata": {},
     "output_type": "execute_result"
    }
   ],
   "source": [
    "proba_grid = xgb_grid.predict_proba(X_val)\n",
    "loss_grid = log_loss(y_val,proba_grid)\n",
    "loss_grid"
   ]
  },
  {
   "cell_type": "markdown",
   "metadata": {},
   "source": [
    "Our grid search cv parameter works well\n",
    "\n",
    "Let's fit our model with this parameters"
   ]
  },
  {
   "cell_type": "code",
   "execution_count": 55,
   "metadata": {},
   "outputs": [
    {
     "name": "stdout",
     "output_type": "stream",
     "text": [
      "[17:26:02] WARNING: C:/Users/Administrator/workspace/xgboost-win64_release_1.4.0/src/learner.cc:1095: Starting in XGBoost 1.3.0, the default evaluation metric used with the objective 'binary:logistic' was changed from 'error' to 'logloss'. Explicitly set eval_metric if you'd like to restore the old behavior.\n"
     ]
    },
    {
     "name": "stderr",
     "output_type": "stream",
     "text": [
      "C:\\Users\\6\\anaconda3\\lib\\site-packages\\xgboost\\sklearn.py:1146: UserWarning: The use of label encoder in XGBClassifier is deprecated and will be removed in a future release. To remove this warning, do the following: 1) Pass option use_label_encoder=False when constructing XGBClassifier object; and 2) Encode your labels (y) as integers starting with 0, i.e. 0, 1, 2, ..., [num_class - 1].\n",
      "  warnings.warn(label_encoder_deprecation_msg, UserWarning)\n"
     ]
    },
    {
     "data": {
      "text/plain": [
       "0.026277960002399035"
      ]
     },
     "execution_count": 55,
     "metadata": {},
     "output_type": "execute_result"
    }
   ],
   "source": [
    "hp_model = XGBClassifier(n_estimators=100,\n",
    "                         colsample_bytree=1,\n",
    "                         learning_rate=0.1,\n",
    "                         max_depth=6,\n",
    "                         min_child_weight=2,\n",
    "                         subsample=1,\n",
    "                         random_state=42)\n",
    "hp_model.fit(X_train,y_train)\n",
    "hp_pred = hp_model.predict(X_val)\n",
    "hp_pred_proba = hp_model.predict_proba(X_val)\n",
    "hp_loss = log_loss(y_val,hp_pred_proba)\n",
    "hp_loss"
   ]
  },
  {
   "cell_type": "markdown",
   "metadata": {},
   "source": [
    "#### Let's try to hypertuned our n_estimators by hand"
   ]
  },
  {
   "cell_type": "code",
   "execution_count": 61,
   "metadata": {},
   "outputs": [
    {
     "name": "stdout",
     "output_type": "stream",
     "text": [
      "number of estimators is 10 and loss is 0.221453462794293\n",
      "number of estimators is 50 and loss is 0.02881843988333946\n",
      "number of estimators is 100 and loss is 0.026277960002399035\n",
      "number of estimators is 200 and loss is 0.028507319678537944\n",
      "number of estimators is 300 and loss is 0.030340785450463457\n",
      "number of estimators is 400 and loss is 0.031037321870448366\n",
      "number of estimators is 500 and loss is 0.031483236709321724\n",
      "number of estimators is 600 and loss is 0.03184839364628481\n",
      "number of estimators is 700 and loss is 0.032546795920186014\n",
      "number of estimators is 800 and loss is 0.032498973576291106\n",
      "number of estimators is 900 and loss is 0.03308940808103957\n",
      "number of estimators is 1000 and loss is 0.03339772831465062\n"
     ]
    }
   ],
   "source": [
    "import warnings\n",
    "warnings.filterwarnings('ignore')\n",
    "n_estimators = [10,50,100,200,300,400,500,600,700,800,900,1000]\n",
    "for i in n_estimators:\n",
    "    model = XGBClassifier(n_estimators=i,\n",
    "                          colsample_bytree=1,\n",
    "                          learning_rate=0.1,\n",
    "                          max_depth=6,\n",
    "                          min_child_weight=2,\n",
    "                          subsample=1,\n",
    "                          random_state=42,silent=True)\n",
    "    model.fit(X_train,y_train)\n",
    "    proba_exp = model.predict_proba(X_val)\n",
    "    loss_exp = log_loss(y_val,proba_exp)\n",
    "    print(f'number of estimators is {i} and loss is {loss_exp}')\n",
    "    "
   ]
  },
  {
   "cell_type": "markdown",
   "metadata": {},
   "source": [
    "As we can see **n_estimators=100** is only giving best results"
   ]
  },
  {
   "cell_type": "markdown",
   "metadata": {},
   "source": [
    "\n",
    "So we will now predict on our test data"
   ]
  },
  {
   "cell_type": "markdown",
   "metadata": {},
   "source": [
    "### Getting test data"
   ]
  },
  {
   "cell_type": "code",
   "execution_count": 68,
   "metadata": {},
   "outputs": [
    {
     "data": {
      "text/html": [
       "<div>\n",
       "<style scoped>\n",
       "    .dataframe tbody tr th:only-of-type {\n",
       "        vertical-align: middle;\n",
       "    }\n",
       "\n",
       "    .dataframe tbody tr th {\n",
       "        vertical-align: top;\n",
       "    }\n",
       "\n",
       "    .dataframe thead th {\n",
       "        text-align: right;\n",
       "    }\n",
       "</style>\n",
       "<table border=\"1\" class=\"dataframe\">\n",
       "  <thead>\n",
       "    <tr style=\"text-align: right;\">\n",
       "      <th></th>\n",
       "      <th>season</th>\n",
       "      <th>date</th>\n",
       "      <th>league_id</th>\n",
       "      <th>league</th>\n",
       "      <th>Team 1</th>\n",
       "      <th>Team2</th>\n",
       "      <th>SPI1</th>\n",
       "      <th>SPI2</th>\n",
       "      <th>proj_score1</th>\n",
       "      <th>proj_score2</th>\n",
       "      <th>importance1</th>\n",
       "      <th>importance2</th>\n",
       "      <th>score1</th>\n",
       "      <th>score2</th>\n",
       "      <th>xg1</th>\n",
       "      <th>xg2</th>\n",
       "      <th>nsxg1</th>\n",
       "      <th>nsxg2</th>\n",
       "      <th>adj_score1</th>\n",
       "      <th>adj_score2</th>\n",
       "    </tr>\n",
       "  </thead>\n",
       "  <tbody>\n",
       "    <tr>\n",
       "      <th>0</th>\n",
       "      <td>2021</td>\n",
       "      <td>2021-12-14</td>\n",
       "      <td>2411</td>\n",
       "      <td>BPL</td>\n",
       "      <td>Arsenal</td>\n",
       "      <td>West Ham United</td>\n",
       "      <td>79.65</td>\n",
       "      <td>74.06</td>\n",
       "      <td>1.67</td>\n",
       "      <td>1.19</td>\n",
       "      <td>NaN</td>\n",
       "      <td>NaN</td>\n",
       "      <td>NaN</td>\n",
       "      <td>NaN</td>\n",
       "      <td>NaN</td>\n",
       "      <td>NaN</td>\n",
       "      <td>NaN</td>\n",
       "      <td>NaN</td>\n",
       "      <td>NaN</td>\n",
       "      <td>NaN</td>\n",
       "    </tr>\n",
       "    <tr>\n",
       "      <th>1</th>\n",
       "      <td>2021</td>\n",
       "      <td>2021-12-14</td>\n",
       "      <td>2411</td>\n",
       "      <td>BPL</td>\n",
       "      <td>Brighton and Hove Albion</td>\n",
       "      <td>Wolverhampton</td>\n",
       "      <td>74.19</td>\n",
       "      <td>71.14</td>\n",
       "      <td>1.35</td>\n",
       "      <td>0.98</td>\n",
       "      <td>NaN</td>\n",
       "      <td>NaN</td>\n",
       "      <td>NaN</td>\n",
       "      <td>NaN</td>\n",
       "      <td>NaN</td>\n",
       "      <td>NaN</td>\n",
       "      <td>NaN</td>\n",
       "      <td>NaN</td>\n",
       "      <td>NaN</td>\n",
       "      <td>NaN</td>\n",
       "    </tr>\n",
       "    <tr>\n",
       "      <th>2</th>\n",
       "      <td>2021</td>\n",
       "      <td>2021-12-14</td>\n",
       "      <td>2411</td>\n",
       "      <td>BPL</td>\n",
       "      <td>Norwich City</td>\n",
       "      <td>Aston Villa</td>\n",
       "      <td>60.67</td>\n",
       "      <td>71.45</td>\n",
       "      <td>1.18</td>\n",
       "      <td>1.49</td>\n",
       "      <td>NaN</td>\n",
       "      <td>NaN</td>\n",
       "      <td>NaN</td>\n",
       "      <td>NaN</td>\n",
       "      <td>NaN</td>\n",
       "      <td>NaN</td>\n",
       "      <td>NaN</td>\n",
       "      <td>NaN</td>\n",
       "      <td>NaN</td>\n",
       "      <td>NaN</td>\n",
       "    </tr>\n",
       "    <tr>\n",
       "      <th>3</th>\n",
       "      <td>2021</td>\n",
       "      <td>2021-12-14</td>\n",
       "      <td>2411</td>\n",
       "      <td>BPL</td>\n",
       "      <td>Leicester City</td>\n",
       "      <td>Tottenham Hotspur</td>\n",
       "      <td>76.88</td>\n",
       "      <td>79.06</td>\n",
       "      <td>1.52</td>\n",
       "      <td>1.44</td>\n",
       "      <td>NaN</td>\n",
       "      <td>NaN</td>\n",
       "      <td>NaN</td>\n",
       "      <td>NaN</td>\n",
       "      <td>NaN</td>\n",
       "      <td>NaN</td>\n",
       "      <td>NaN</td>\n",
       "      <td>NaN</td>\n",
       "      <td>NaN</td>\n",
       "      <td>NaN</td>\n",
       "    </tr>\n",
       "    <tr>\n",
       "      <th>4</th>\n",
       "      <td>2021</td>\n",
       "      <td>2021-12-14</td>\n",
       "      <td>2411</td>\n",
       "      <td>BPL</td>\n",
       "      <td>Brentford</td>\n",
       "      <td>Manchester United</td>\n",
       "      <td>63.53</td>\n",
       "      <td>85.58</td>\n",
       "      <td>0.95</td>\n",
       "      <td>1.92</td>\n",
       "      <td>NaN</td>\n",
       "      <td>NaN</td>\n",
       "      <td>NaN</td>\n",
       "      <td>NaN</td>\n",
       "      <td>NaN</td>\n",
       "      <td>NaN</td>\n",
       "      <td>NaN</td>\n",
       "      <td>NaN</td>\n",
       "      <td>NaN</td>\n",
       "      <td>NaN</td>\n",
       "    </tr>\n",
       "  </tbody>\n",
       "</table>\n",
       "</div>"
      ],
      "text/plain": [
       "   season       date  league_id league                    Team 1  \\\n",
       "0    2021 2021-12-14       2411    BPL                   Arsenal   \n",
       "1    2021 2021-12-14       2411    BPL  Brighton and Hove Albion   \n",
       "2    2021 2021-12-14       2411    BPL              Norwich City   \n",
       "3    2021 2021-12-14       2411    BPL            Leicester City   \n",
       "4    2021 2021-12-14       2411    BPL                 Brentford   \n",
       "\n",
       "               Team2   SPI1   SPI2  proj_score1  proj_score2  importance1  \\\n",
       "0    West Ham United  79.65  74.06         1.67         1.19          NaN   \n",
       "1      Wolverhampton  74.19  71.14         1.35         0.98          NaN   \n",
       "2        Aston Villa  60.67  71.45         1.18         1.49          NaN   \n",
       "3  Tottenham Hotspur  76.88  79.06         1.52         1.44          NaN   \n",
       "4  Manchester United  63.53  85.58         0.95         1.92          NaN   \n",
       "\n",
       "   importance2  score1  score2  xg1  xg2  nsxg1  nsxg2  adj_score1  adj_score2  \n",
       "0          NaN     NaN     NaN  NaN  NaN    NaN    NaN         NaN         NaN  \n",
       "1          NaN     NaN     NaN  NaN  NaN    NaN    NaN         NaN         NaN  \n",
       "2          NaN     NaN     NaN  NaN  NaN    NaN    NaN         NaN         NaN  \n",
       "3          NaN     NaN     NaN  NaN  NaN    NaN    NaN         NaN         NaN  \n",
       "4          NaN     NaN     NaN  NaN  NaN    NaN    NaN         NaN         NaN  "
      ]
     },
     "execution_count": 68,
     "metadata": {},
     "output_type": "execute_result"
    }
   ],
   "source": [
    "test_data = pd.read_csv('test.csv',parse_dates=['date'])\n",
    "test_data.head()"
   ]
  },
  {
   "cell_type": "code",
   "execution_count": 69,
   "metadata": {},
   "outputs": [
    {
     "name": "stdout",
     "output_type": "stream",
     "text": [
      "<class 'pandas.core.frame.DataFrame'>\n",
      "RangeIndex: 4008 entries, 0 to 4007\n",
      "Data columns (total 20 columns):\n",
      " #   Column       Non-Null Count  Dtype         \n",
      "---  ------       --------------  -----         \n",
      " 0   season       4008 non-null   int64         \n",
      " 1   date         4008 non-null   datetime64[ns]\n",
      " 2   league_id    4008 non-null   int64         \n",
      " 3   league       4008 non-null   object        \n",
      " 4   Team 1       4008 non-null   object        \n",
      " 5   Team2        4008 non-null   object        \n",
      " 6   SPI1         4008 non-null   float64       \n",
      " 7   SPI2         4008 non-null   float64       \n",
      " 8   proj_score1  4008 non-null   float64       \n",
      " 9   proj_score2  4008 non-null   float64       \n",
      " 10  importance1  0 non-null      float64       \n",
      " 11  importance2  0 non-null      float64       \n",
      " 12  score1       0 non-null      float64       \n",
      " 13  score2       0 non-null      float64       \n",
      " 14  xg1          0 non-null      float64       \n",
      " 15  xg2          0 non-null      float64       \n",
      " 16  nsxg1        0 non-null      float64       \n",
      " 17  nsxg2        0 non-null      float64       \n",
      " 18  adj_score1   0 non-null      float64       \n",
      " 19  adj_score2   0 non-null      float64       \n",
      "dtypes: datetime64[ns](1), float64(14), int64(2), object(3)\n",
      "memory usage: 626.4+ KB\n"
     ]
    }
   ],
   "source": [
    "test_data.info()"
   ]
  },
  {
   "cell_type": "code",
   "execution_count": 70,
   "metadata": {},
   "outputs": [
    {
     "data": {
      "text/plain": [
       "season            0\n",
       "date              0\n",
       "league_id         0\n",
       "league            0\n",
       "Team 1            0\n",
       "Team2             0\n",
       "SPI1              0\n",
       "SPI2              0\n",
       "proj_score1       0\n",
       "proj_score2       0\n",
       "importance1    4008\n",
       "importance2    4008\n",
       "score1         4008\n",
       "score2         4008\n",
       "xg1            4008\n",
       "xg2            4008\n",
       "nsxg1          4008\n",
       "nsxg2          4008\n",
       "adj_score1     4008\n",
       "adj_score2     4008\n",
       "dtype: int64"
      ]
     },
     "execution_count": 70,
     "metadata": {},
     "output_type": "execute_result"
    }
   ],
   "source": [
    "test_data.isnull().sum()"
   ]
  },
  {
   "cell_type": "markdown",
   "metadata": {},
   "source": [
    "Our test data have some object dtypes and missing values so let's preprocess our test data"
   ]
  },
  {
   "cell_type": "code",
   "execution_count": 71,
   "metadata": {},
   "outputs": [],
   "source": [
    "def preprocess(data_tmp):\n",
    "    data_tmp.drop('adj_score1',axis=1,inplace=True) \n",
    "    data_tmp.drop('adj_score2',axis=1,inplace=True)\n",
    "    data_tmp['Date'] = data_tmp['date'].dt.day\n",
    "    data_tmp['Month'] = data_tmp['date'].dt.month\n",
    "    data_tmp['Year'] = data_tmp['date'].dt.year\n",
    "    data_tmp.drop('date',axis=1,inplace=True)\n",
    "    data_tmp.drop('Year',axis=1,inplace=True)\n",
    "    data_tmp.drop('league',axis=1,inplace=True)\n",
    "    data_tmp.drop('Team 1',axis=1,inplace=True)\n",
    "    data_tmp.drop('Team2',axis=1,inplace=True)\n",
    "    for label, content in data_tmp.items():\n",
    "        if pd.api.types.is_numeric_dtype(content):\n",
    "            if pd.isnull(content).sum():\n",
    "                data_tmp[label] = content.fillna(content.median())"
   ]
  },
  {
   "cell_type": "code",
   "execution_count": 72,
   "metadata": {},
   "outputs": [],
   "source": [
    "preprocess(test_data)"
   ]
  },
  {
   "cell_type": "code",
   "execution_count": 73,
   "metadata": {},
   "outputs": [
    {
     "name": "stdout",
     "output_type": "stream",
     "text": [
      "<class 'pandas.core.frame.DataFrame'>\n",
      "RangeIndex: 4008 entries, 0 to 4007\n",
      "Data columns (total 16 columns):\n",
      " #   Column       Non-Null Count  Dtype  \n",
      "---  ------       --------------  -----  \n",
      " 0   season       4008 non-null   int64  \n",
      " 1   league_id    4008 non-null   int64  \n",
      " 2   SPI1         4008 non-null   float64\n",
      " 3   SPI2         4008 non-null   float64\n",
      " 4   proj_score1  4008 non-null   float64\n",
      " 5   proj_score2  4008 non-null   float64\n",
      " 6   importance1  0 non-null      float64\n",
      " 7   importance2  0 non-null      float64\n",
      " 8   score1       0 non-null      float64\n",
      " 9   score2       0 non-null      float64\n",
      " 10  xg1          0 non-null      float64\n",
      " 11  xg2          0 non-null      float64\n",
      " 12  nsxg1        0 non-null      float64\n",
      " 13  nsxg2        0 non-null      float64\n",
      " 14  Date         4008 non-null   int64  \n",
      " 15  Month        4008 non-null   int64  \n",
      "dtypes: float64(12), int64(4)\n",
      "memory usage: 501.1 KB\n"
     ]
    }
   ],
   "source": [
    "test_data.info()"
   ]
  },
  {
   "cell_type": "code",
   "execution_count": 74,
   "metadata": {},
   "outputs": [
    {
     "data": {
      "text/plain": [
       "season            0\n",
       "league_id         0\n",
       "SPI1              0\n",
       "SPI2              0\n",
       "proj_score1       0\n",
       "proj_score2       0\n",
       "importance1    4008\n",
       "importance2    4008\n",
       "score1         4008\n",
       "score2         4008\n",
       "xg1            4008\n",
       "xg2            4008\n",
       "nsxg1          4008\n",
       "nsxg2          4008\n",
       "Date              0\n",
       "Month             0\n",
       "dtype: int64"
      ]
     },
     "execution_count": 74,
     "metadata": {},
     "output_type": "execute_result"
    }
   ],
   "source": [
    "test_data.isnull().sum()"
   ]
  },
  {
   "cell_type": "code",
   "execution_count": 75,
   "metadata": {},
   "outputs": [
    {
     "data": {
      "text/html": [
       "<div>\n",
       "<style scoped>\n",
       "    .dataframe tbody tr th:only-of-type {\n",
       "        vertical-align: middle;\n",
       "    }\n",
       "\n",
       "    .dataframe tbody tr th {\n",
       "        vertical-align: top;\n",
       "    }\n",
       "\n",
       "    .dataframe thead th {\n",
       "        text-align: right;\n",
       "    }\n",
       "</style>\n",
       "<table border=\"1\" class=\"dataframe\">\n",
       "  <thead>\n",
       "    <tr style=\"text-align: right;\">\n",
       "      <th></th>\n",
       "      <th>Outcome</th>\n",
       "    </tr>\n",
       "  </thead>\n",
       "  <tbody>\n",
       "    <tr>\n",
       "      <th>0</th>\n",
       "      <td>1</td>\n",
       "    </tr>\n",
       "    <tr>\n",
       "      <th>1</th>\n",
       "      <td>1</td>\n",
       "    </tr>\n",
       "    <tr>\n",
       "      <th>2</th>\n",
       "      <td>0</td>\n",
       "    </tr>\n",
       "    <tr>\n",
       "      <th>3</th>\n",
       "      <td>1</td>\n",
       "    </tr>\n",
       "    <tr>\n",
       "      <th>4</th>\n",
       "      <td>0</td>\n",
       "    </tr>\n",
       "    <tr>\n",
       "      <th>...</th>\n",
       "      <td>...</td>\n",
       "    </tr>\n",
       "    <tr>\n",
       "      <th>4003</th>\n",
       "      <td>1</td>\n",
       "    </tr>\n",
       "    <tr>\n",
       "      <th>4004</th>\n",
       "      <td>0</td>\n",
       "    </tr>\n",
       "    <tr>\n",
       "      <th>4005</th>\n",
       "      <td>1</td>\n",
       "    </tr>\n",
       "    <tr>\n",
       "      <th>4006</th>\n",
       "      <td>1</td>\n",
       "    </tr>\n",
       "    <tr>\n",
       "      <th>4007</th>\n",
       "      <td>1</td>\n",
       "    </tr>\n",
       "  </tbody>\n",
       "</table>\n",
       "<p>4008 rows × 1 columns</p>\n",
       "</div>"
      ],
      "text/plain": [
       "      Outcome\n",
       "0           1\n",
       "1           1\n",
       "2           0\n",
       "3           1\n",
       "4           0\n",
       "...       ...\n",
       "4003        1\n",
       "4004        0\n",
       "4005        1\n",
       "4006        1\n",
       "4007        1\n",
       "\n",
       "[4008 rows x 1 columns]"
      ]
     },
     "execution_count": 75,
     "metadata": {},
     "output_type": "execute_result"
    }
   ],
   "source": [
    "submission = pd.read_csv('submission.csv' )\n",
    "submission['Outcome'] = hp_model.predict(test_data)\n",
    "submission.to_csv('submission_1.csv',index=False)\n",
    "submission"
   ]
  }
 ],
 "metadata": {
  "kernelspec": {
   "display_name": "Python 3 (ipykernel)",
   "language": "python",
   "name": "python3"
  },
  "language_info": {
   "codemirror_mode": {
    "name": "ipython",
    "version": 3
   },
   "file_extension": ".py",
   "mimetype": "text/x-python",
   "name": "python",
   "nbconvert_exporter": "python",
   "pygments_lexer": "ipython3",
   "version": "3.8.5"
  }
 },
 "nbformat": 4,
 "nbformat_minor": 4
}
